{
 "cells": [
  {
   "cell_type": "code",
   "execution_count": 1,
   "id": "47b97b4c",
   "metadata": {},
   "outputs": [
    {
     "name": "stdout",
     "output_type": "stream",
     "text": [
      "Requirement already satisfied: streamlit in d:\\setup\\lib\\site-packages (1.8.1)Note: you may need to restart the kernel to use updated packages.\n",
      "\n",
      "Requirement already satisfied: importlib-metadata>=1.4 in d:\\setup\\lib\\site-packages (from streamlit) (4.8.1)\n",
      "Requirement already satisfied: semver in d:\\setup\\lib\\site-packages (from streamlit) (2.13.0)\n",
      "Requirement already satisfied: pydeck>=0.1.dev5 in d:\\setup\\lib\\site-packages (from streamlit) (0.7.1)\n",
      "Requirement already satisfied: toml in d:\\setup\\lib\\site-packages (from streamlit) (0.10.2)\n",
      "Requirement already satisfied: altair>=3.2.0 in d:\\setup\\lib\\site-packages (from streamlit) (4.2.0)\n",
      "Requirement already satisfied: pillow>=6.2.0 in d:\\setup\\lib\\site-packages (from streamlit) (8.4.0)\n",
      "Requirement already satisfied: python-dateutil in d:\\setup\\lib\\site-packages (from streamlit) (2.8.2)\n",
      "Requirement already satisfied: attrs in d:\\setup\\lib\\site-packages (from streamlit) (21.2.0)\n",
      "Requirement already satisfied: click<8.1,>=7.0 in d:\\setup\\lib\\site-packages (from streamlit) (8.0.3)\n",
      "Requirement already satisfied: tzlocal in d:\\setup\\lib\\site-packages (from streamlit) (4.2)\n",
      "Requirement already satisfied: requests in d:\\setup\\lib\\site-packages (from streamlit) (2.26.0)\n",
      "Requirement already satisfied: cachetools>=4.0 in d:\\setup\\lib\\site-packages (from streamlit) (5.0.0)\n",
      "Requirement already satisfied: pandas>=0.21.0 in d:\\setup\\lib\\site-packages (from streamlit) (1.3.4)\n",
      "Requirement already satisfied: pyarrow in d:\\setup\\lib\\site-packages (from streamlit) (7.0.0)\n",
      "Requirement already satisfied: tornado>=5.0 in d:\\setup\\lib\\site-packages (from streamlit) (6.1)\n",
      "Requirement already satisfied: blinker in d:\\setup\\lib\\site-packages (from streamlit) (1.4)\n",
      "Requirement already satisfied: protobuf!=3.11,>=3.6.0 in d:\\setup\\lib\\site-packages (from streamlit) (3.20.1)\n",
      "Requirement already satisfied: packaging in d:\\setup\\lib\\site-packages (from streamlit) (21.0)\n",
      "Requirement already satisfied: numpy in d:\\setup\\lib\\site-packages (from streamlit) (1.20.3)\n",
      "Requirement already satisfied: validators in d:\\setup\\lib\\site-packages (from streamlit) (0.18.2)\n",
      "Requirement already satisfied: watchdog in d:\\setup\\lib\\site-packages (from streamlit) (2.1.3)\n",
      "Requirement already satisfied: gitpython!=3.1.19 in d:\\setup\\lib\\site-packages (from streamlit) (3.1.27)\n",
      "Requirement already satisfied: pympler>=0.9 in d:\\setup\\lib\\site-packages (from streamlit) (1.0.1)\n",
      "Requirement already satisfied: jinja2 in d:\\setup\\lib\\site-packages (from altair>=3.2.0->streamlit) (2.11.3)\n",
      "Requirement already satisfied: entrypoints in d:\\setup\\lib\\site-packages (from altair>=3.2.0->streamlit) (0.3)\n",
      "Requirement already satisfied: jsonschema>=3.0 in d:\\setup\\lib\\site-packages (from altair>=3.2.0->streamlit) (3.2.0)\n",
      "Requirement already satisfied: toolz in d:\\setup\\lib\\site-packages (from altair>=3.2.0->streamlit) (0.11.1)\n",
      "Requirement already satisfied: colorama in d:\\setup\\lib\\site-packages (from click<8.1,>=7.0->streamlit) (0.4.4)\n",
      "Requirement already satisfied: gitdb<5,>=4.0.1 in d:\\setup\\lib\\site-packages (from gitpython!=3.1.19->streamlit) (4.0.9)\n",
      "Requirement already satisfied: smmap<6,>=3.0.1 in d:\\setup\\lib\\site-packages (from gitdb<5,>=4.0.1->gitpython!=3.1.19->streamlit) (5.0.0)\n",
      "Requirement already satisfied: zipp>=0.5 in d:\\setup\\lib\\site-packages (from importlib-metadata>=1.4->streamlit) (3.6.0)\n",
      "Requirement already satisfied: setuptools in d:\\setup\\lib\\site-packages (from jsonschema>=3.0->altair>=3.2.0->streamlit) (58.0.4)\n",
      "Requirement already satisfied: six>=1.11.0 in d:\\setup\\lib\\site-packages (from jsonschema>=3.0->altair>=3.2.0->streamlit) (1.16.0)\n",
      "Requirement already satisfied: pyrsistent>=0.14.0 in d:\\setup\\lib\\site-packages (from jsonschema>=3.0->altair>=3.2.0->streamlit) (0.18.0)\n",
      "Requirement already satisfied: pytz>=2017.3 in d:\\setup\\lib\\site-packages (from pandas>=0.21.0->streamlit) (2021.3)\n",
      "Requirement already satisfied: ipykernel>=5.1.2 in d:\\setup\\lib\\site-packages (from pydeck>=0.1.dev5->streamlit) (6.4.1)\n",
      "Requirement already satisfied: ipywidgets>=7.0.0 in d:\\setup\\lib\\site-packages (from pydeck>=0.1.dev5->streamlit) (7.6.5)\n",
      "Requirement already satisfied: traitlets>=4.3.2 in d:\\setup\\lib\\site-packages (from pydeck>=0.1.dev5->streamlit) (5.1.0)\n",
      "Requirement already satisfied: matplotlib-inline<0.2.0,>=0.1.0 in d:\\setup\\lib\\site-packages (from ipykernel>=5.1.2->pydeck>=0.1.dev5->streamlit) (0.1.2)\n",
      "Requirement already satisfied: jupyter-client<8.0 in d:\\setup\\lib\\site-packages (from ipykernel>=5.1.2->pydeck>=0.1.dev5->streamlit) (6.1.12)\n",
      "Requirement already satisfied: ipython<8.0,>=7.23.1 in d:\\setup\\lib\\site-packages (from ipykernel>=5.1.2->pydeck>=0.1.dev5->streamlit) (7.29.0)\n",
      "Requirement already satisfied: ipython-genutils in d:\\setup\\lib\\site-packages (from ipykernel>=5.1.2->pydeck>=0.1.dev5->streamlit) (0.2.0)\n",
      "Requirement already satisfied: debugpy<2.0,>=1.0.0 in d:\\setup\\lib\\site-packages (from ipykernel>=5.1.2->pydeck>=0.1.dev5->streamlit) (1.4.1)\n",
      "Requirement already satisfied: backcall in d:\\setup\\lib\\site-packages (from ipython<8.0,>=7.23.1->ipykernel>=5.1.2->pydeck>=0.1.dev5->streamlit) (0.2.0)\n",
      "Requirement already satisfied: prompt-toolkit!=3.0.0,!=3.0.1,<3.1.0,>=2.0.0 in d:\\setup\\lib\\site-packages (from ipython<8.0,>=7.23.1->ipykernel>=5.1.2->pydeck>=0.1.dev5->streamlit) (3.0.20)\n",
      "Requirement already satisfied: jedi>=0.16 in d:\\setup\\lib\\site-packages (from ipython<8.0,>=7.23.1->ipykernel>=5.1.2->pydeck>=0.1.dev5->streamlit) (0.18.0)\n",
      "Requirement already satisfied: pickleshare in d:\\setup\\lib\\site-packages (from ipython<8.0,>=7.23.1->ipykernel>=5.1.2->pydeck>=0.1.dev5->streamlit) (0.7.5)\n",
      "Requirement already satisfied: pygments in d:\\setup\\lib\\site-packages (from ipython<8.0,>=7.23.1->ipykernel>=5.1.2->pydeck>=0.1.dev5->streamlit) (2.10.0)\n",
      "Requirement already satisfied: decorator in d:\\setup\\lib\\site-packages (from ipython<8.0,>=7.23.1->ipykernel>=5.1.2->pydeck>=0.1.dev5->streamlit) (5.1.0)\n",
      "Requirement already satisfied: widgetsnbextension~=3.5.0 in d:\\setup\\lib\\site-packages (from ipywidgets>=7.0.0->pydeck>=0.1.dev5->streamlit) (3.5.1)\n",
      "Requirement already satisfied: jupyterlab-widgets>=1.0.0 in d:\\setup\\lib\\site-packages (from ipywidgets>=7.0.0->pydeck>=0.1.dev5->streamlit) (1.0.0)\n",
      "Requirement already satisfied: nbformat>=4.2.0 in d:\\setup\\lib\\site-packages (from ipywidgets>=7.0.0->pydeck>=0.1.dev5->streamlit) (5.1.3)\n",
      "Requirement already satisfied: parso<0.9.0,>=0.8.0 in d:\\setup\\lib\\site-packages (from jedi>=0.16->ipython<8.0,>=7.23.1->ipykernel>=5.1.2->pydeck>=0.1.dev5->streamlit) (0.8.2)\n",
      "Requirement already satisfied: MarkupSafe>=0.23 in d:\\setup\\lib\\site-packages (from jinja2->altair>=3.2.0->streamlit) (1.1.1)\n",
      "Requirement already satisfied: pyzmq>=13 in d:\\setup\\lib\\site-packages (from jupyter-client<8.0->ipykernel>=5.1.2->pydeck>=0.1.dev5->streamlit) (22.2.1)\n",
      "Requirement already satisfied: jupyter-core>=4.6.0 in d:\\setup\\lib\\site-packages (from jupyter-client<8.0->ipykernel>=5.1.2->pydeck>=0.1.dev5->streamlit) (4.8.1)\n",
      "Requirement already satisfied: pywin32>=1.0 in d:\\setup\\lib\\site-packages (from jupyter-core>=4.6.0->jupyter-client<8.0->ipykernel>=5.1.2->pydeck>=0.1.dev5->streamlit) (228)\n",
      "Requirement already satisfied: wcwidth in d:\\setup\\lib\\site-packages (from prompt-toolkit!=3.0.0,!=3.0.1,<3.1.0,>=2.0.0->ipython<8.0,>=7.23.1->ipykernel>=5.1.2->pydeck>=0.1.dev5->streamlit) (0.2.5)\n",
      "Requirement already satisfied: notebook>=4.4.1 in d:\\setup\\lib\\site-packages (from widgetsnbextension~=3.5.0->ipywidgets>=7.0.0->pydeck>=0.1.dev5->streamlit) (6.4.5)\n",
      "Requirement already satisfied: terminado>=0.8.3 in d:\\setup\\lib\\site-packages (from notebook>=4.4.1->widgetsnbextension~=3.5.0->ipywidgets>=7.0.0->pydeck>=0.1.dev5->streamlit) (0.9.4)\n",
      "Requirement already satisfied: argon2-cffi in d:\\setup\\lib\\site-packages (from notebook>=4.4.1->widgetsnbextension~=3.5.0->ipywidgets>=7.0.0->pydeck>=0.1.dev5->streamlit) (20.1.0)\n",
      "Requirement already satisfied: nbconvert in d:\\setup\\lib\\site-packages (from notebook>=4.4.1->widgetsnbextension~=3.5.0->ipywidgets>=7.0.0->pydeck>=0.1.dev5->streamlit) (6.1.0)\n",
      "Requirement already satisfied: Send2Trash>=1.5.0 in d:\\setup\\lib\\site-packages (from notebook>=4.4.1->widgetsnbextension~=3.5.0->ipywidgets>=7.0.0->pydeck>=0.1.dev5->streamlit) (1.8.0)\n",
      "Requirement already satisfied: prometheus-client in d:\\setup\\lib\\site-packages (from notebook>=4.4.1->widgetsnbextension~=3.5.0->ipywidgets>=7.0.0->pydeck>=0.1.dev5->streamlit) (0.11.0)\n",
      "Requirement already satisfied: pywinpty>=0.5 in d:\\setup\\lib\\site-packages (from terminado>=0.8.3->notebook>=4.4.1->widgetsnbextension~=3.5.0->ipywidgets>=7.0.0->pydeck>=0.1.dev5->streamlit) (0.5.7)\n",
      "Requirement already satisfied: cffi>=1.0.0 in d:\\setup\\lib\\site-packages (from argon2-cffi->notebook>=4.4.1->widgetsnbextension~=3.5.0->ipywidgets>=7.0.0->pydeck>=0.1.dev5->streamlit) (1.14.6)\n",
      "Requirement already satisfied: pycparser in d:\\setup\\lib\\site-packages (from cffi>=1.0.0->argon2-cffi->notebook>=4.4.1->widgetsnbextension~=3.5.0->ipywidgets>=7.0.0->pydeck>=0.1.dev5->streamlit) (2.20)\n",
      "Requirement already satisfied: mistune<2,>=0.8.1 in d:\\setup\\lib\\site-packages (from nbconvert->notebook>=4.4.1->widgetsnbextension~=3.5.0->ipywidgets>=7.0.0->pydeck>=0.1.dev5->streamlit) (0.8.4)\n",
      "Requirement already satisfied: bleach in d:\\setup\\lib\\site-packages (from nbconvert->notebook>=4.4.1->widgetsnbextension~=3.5.0->ipywidgets>=7.0.0->pydeck>=0.1.dev5->streamlit) (4.0.0)\n",
      "Requirement already satisfied: testpath in d:\\setup\\lib\\site-packages (from nbconvert->notebook>=4.4.1->widgetsnbextension~=3.5.0->ipywidgets>=7.0.0->pydeck>=0.1.dev5->streamlit) (0.5.0)\n",
      "Requirement already satisfied: pandocfilters>=1.4.1 in d:\\setup\\lib\\site-packages (from nbconvert->notebook>=4.4.1->widgetsnbextension~=3.5.0->ipywidgets>=7.0.0->pydeck>=0.1.dev5->streamlit) (1.4.3)\n",
      "Requirement already satisfied: jupyterlab-pygments in d:\\setup\\lib\\site-packages (from nbconvert->notebook>=4.4.1->widgetsnbextension~=3.5.0->ipywidgets>=7.0.0->pydeck>=0.1.dev5->streamlit) (0.1.2)\n",
      "Requirement already satisfied: defusedxml in d:\\setup\\lib\\site-packages (from nbconvert->notebook>=4.4.1->widgetsnbextension~=3.5.0->ipywidgets>=7.0.0->pydeck>=0.1.dev5->streamlit) (0.7.1)\n",
      "Requirement already satisfied: nbclient<0.6.0,>=0.5.0 in d:\\setup\\lib\\site-packages (from nbconvert->notebook>=4.4.1->widgetsnbextension~=3.5.0->ipywidgets>=7.0.0->pydeck>=0.1.dev5->streamlit) (0.5.3)\n",
      "Requirement already satisfied: async-generator in d:\\setup\\lib\\site-packages (from nbclient<0.6.0,>=0.5.0->nbconvert->notebook>=4.4.1->widgetsnbextension~=3.5.0->ipywidgets>=7.0.0->pydeck>=0.1.dev5->streamlit) (1.10)\n",
      "Requirement already satisfied: nest-asyncio in d:\\setup\\lib\\site-packages (from nbclient<0.6.0,>=0.5.0->nbconvert->notebook>=4.4.1->widgetsnbextension~=3.5.0->ipywidgets>=7.0.0->pydeck>=0.1.dev5->streamlit) (1.5.1)\n",
      "Requirement already satisfied: webencodings in d:\\setup\\lib\\site-packages (from bleach->nbconvert->notebook>=4.4.1->widgetsnbextension~=3.5.0->ipywidgets>=7.0.0->pydeck>=0.1.dev5->streamlit) (0.5.1)\n",
      "Requirement already satisfied: pyparsing>=2.0.2 in d:\\setup\\lib\\site-packages (from packaging->streamlit) (3.0.4)\n",
      "Requirement already satisfied: charset-normalizer~=2.0.0 in d:\\setup\\lib\\site-packages (from requests->streamlit) (2.0.4)\n",
      "Requirement already satisfied: urllib3<1.27,>=1.21.1 in d:\\setup\\lib\\site-packages (from requests->streamlit) (1.26.7)\n",
      "Requirement already satisfied: idna<4,>=2.5 in d:\\setup\\lib\\site-packages (from requests->streamlit) (3.2)\n",
      "Requirement already satisfied: certifi>=2017.4.17 in d:\\setup\\lib\\site-packages (from requests->streamlit) (2021.10.8)\n",
      "Requirement already satisfied: tzdata in d:\\setup\\lib\\site-packages (from tzlocal->streamlit) (2022.1)\n",
      "Requirement already satisfied: pytz-deprecation-shim in d:\\setup\\lib\\site-packages (from tzlocal->streamlit) (0.1.0.post0)\n"
     ]
    }
   ],
   "source": [
    "pip install streamlit"
   ]
  },
  {
   "cell_type": "code",
   "execution_count": 2,
   "id": "cf81fa45",
   "metadata": {},
   "outputs": [
    {
     "name": "stderr",
     "output_type": "stream",
     "text": [
      "2022-05-03 14:00:41.925 INFO    numexpr.utils: NumExpr defaulting to 8 threads.\n"
     ]
    }
   ],
   "source": [
    "import streamlit as st\n",
    "import os\n",
    "from PIL import Image\n",
    "import numpy as np\n",
    "import pickle\n",
    "import tensorflow\n",
    "from tensorflow.keras.preprocessing import image\n",
    "from tensorflow.keras.layers import GlobalMaxPooling2D\n",
    "from tensorflow.keras.applications.resnet50 import ResNet50,preprocess_input\n",
    "from sklearn.neighbors import NearestNeighbors\n",
    "from numpy.linalg import norm"
   ]
  },
  {
   "cell_type": "code",
   "execution_count": 3,
   "id": "d74a9685",
   "metadata": {},
   "outputs": [],
   "source": [
    "feature_list = np.array(pickle.load(open('embed.pkl','rb')))\n",
    "filenames = pickle.load(open('filenames.pkl','rb'))"
   ]
  },
  {
   "cell_type": "code",
   "execution_count": 4,
   "id": "9355c0b2",
   "metadata": {},
   "outputs": [],
   "source": [
    "model = ResNet50(weights='imagenet',include_top=False,input_shape=(224,224,3))\n",
    "model.trainable = False\n",
    "\n",
    "model = tensorflow.keras.Sequential([\n",
    "    model,\n",
    "    GlobalMaxPooling2D()\n",
    "])\n"
   ]
  },
  {
   "cell_type": "code",
   "execution_count": 5,
   "id": "5a03963d",
   "metadata": {},
   "outputs": [
    {
     "name": "stderr",
     "output_type": "stream",
     "text": [
      "2022-05-03 14:01:00.715 \n",
      "  \u001b[33m\u001b[1mWarning:\u001b[0m to view this Streamlit app on a browser, run it with the following\n",
      "  command:\n",
      "\n",
      "    streamlit run D:\\setup\\lib\\site-packages\\ipykernel_launcher.py [ARGUMENTS]\n"
     ]
    }
   ],
   "source": [
    "st.title('Fashion Recommender System')\n",
    "\n",
    "def save_uploaded_file(uploaded_file):\n",
    "    try:\n",
    "        with open(os.path.join('uploads',uploaded_file.name),'wb') as f:\n",
    "            f.write(uploaded_file.getbuffer())\n",
    "        return 1\n",
    "    except:\n",
    "        return 0\n",
    "\n",
    "def feature_extraction(img_path,model):\n",
    "    img = image.load_img(img_path, target_size=(224, 224))\n",
    "    img_array = image.img_to_array(img)\n",
    "    expanded_img_array = np.expand_dims(img_array, axis=0)\n",
    "    preprocessed_img = preprocess_input(expanded_img_array)\n",
    "    result = model.predict(preprocessed_img).flatten()\n",
    "    normalized_result = result / norm(result)\n",
    "\n",
    "    return normalized_result\n",
    "\n",
    "def recommend(features,feature_list):\n",
    "    neighbors = NearestNeighbors(n_neighbors=6, algorithm='brute', metric='euclidean')\n",
    "    neighbors.fit(feature_list)\n",
    "\n",
    "    distances, indices = neighbors.kneighbors([features])\n",
    "\n",
    "    return indices\n",
    "\n",
    "uploaded_file = st.file_uploader(\"Choose an image\")\n",
    "if uploaded_file is not None:\n",
    "    if save_uploaded_file(uploaded_file):\n",
    "        # display the file\n",
    "        display_image = Image.open(uploaded_file)\n",
    "        st.image(display_image)\n",
    "        # feature extract\n",
    "        features = feature_extraction(os.path.join(\"uploads\",uploaded_file.name),model)\n",
    "        #st.text(features)\n",
    "        # recommendention\n",
    "        indices = recommend(features,feature_list)\n",
    "        # show\n",
    "        col1,col2,col3,col4,col5 = st.beta_columns(5)\n",
    "\n",
    "        with col1:\n",
    "            st.image(filenames[indices[0][0]])\n",
    "        with col2:\n",
    "            st.image(filenames[indices[0][1]])\n",
    "        with col3:\n",
    "            st.image(filenames[indices[0][2]])\n",
    "        with col4:\n",
    "            st.image(filenames[indices[0][3]])\n",
    "        with col5:\n",
    "            st.image(filenames[indices[0][4]])\n",
    "    else:\n",
    "        st.header(\"Some error occured in file upload\")"
   ]
  },
  {
   "cell_type": "code",
   "execution_count": null,
   "id": "03580850",
   "metadata": {},
   "outputs": [],
   "source": []
  },
  {
   "cell_type": "code",
   "execution_count": null,
   "id": "e48cc69f",
   "metadata": {},
   "outputs": [],
   "source": []
  },
  {
   "cell_type": "code",
   "execution_count": null,
   "id": "845c68cd",
   "metadata": {},
   "outputs": [],
   "source": []
  },
  {
   "cell_type": "code",
   "execution_count": null,
   "id": "01d09137",
   "metadata": {},
   "outputs": [],
   "source": []
  },
  {
   "cell_type": "code",
   "execution_count": null,
   "id": "85f6ebfe",
   "metadata": {},
   "outputs": [],
   "source": []
  }
 ],
 "metadata": {
  "kernelspec": {
   "display_name": "Python 3 (ipykernel)",
   "language": "python",
   "name": "python3"
  },
  "language_info": {
   "codemirror_mode": {
    "name": "ipython",
    "version": 3
   },
   "file_extension": ".py",
   "mimetype": "text/x-python",
   "name": "python",
   "nbconvert_exporter": "python",
   "pygments_lexer": "ipython3",
   "version": "3.9.7"
  }
 },
 "nbformat": 4,
 "nbformat_minor": 5
}
