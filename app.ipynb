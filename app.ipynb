{
 "cells": [
  {
   "cell_type": "code",
   "execution_count": 2,
   "id": "11064dc4",
   "metadata": {},
   "outputs": [
    {
     "name": "stdout",
     "output_type": "stream",
     "text": [
      "Requirement already satisfied: Tensorflow in d:\\setup\\lib\\site-packages (2.8.0)\n",
      "Requirement already satisfied: libclang>=9.0.1 in d:\\setup\\lib\\site-packages (from Tensorflow) (14.0.1)\n",
      "Requirement already satisfied: setuptools in d:\\setup\\lib\\site-packages (from Tensorflow) (58.0.4)\n",
      "Requirement already satisfied: google-pasta>=0.1.1 in d:\\setup\\lib\\site-packages (from Tensorflow) (0.2.0)\n",
      "Requirement already satisfied: keras<2.9,>=2.8.0rc0 in d:\\setup\\lib\\site-packages (from Tensorflow) (2.8.0)\n",
      "Requirement already satisfied: flatbuffers>=1.12 in d:\\setup\\lib\\site-packages (from Tensorflow) (2.0)\n",
      "Requirement already satisfied: six>=1.12.0 in d:\\setup\\lib\\site-packages (from Tensorflow) (1.16.0)\n",
      "Requirement already satisfied: opt-einsum>=2.3.2 in d:\\setup\\lib\\site-packages (from Tensorflow) (3.3.0)\n",
      "Requirement already satisfied: tensorflow-io-gcs-filesystem>=0.23.1 in d:\\setup\\lib\\site-packages (from Tensorflow) (0.25.0)\n",
      "Requirement already satisfied: grpcio<2.0,>=1.24.3 in d:\\setup\\lib\\site-packages (from Tensorflow) (1.44.0)\n",
      "Requirement already satisfied: h5py>=2.9.0 in d:\\setup\\lib\\site-packages (from Tensorflow) (3.2.1)\n",
      "Requirement already satisfied: tensorboard<2.9,>=2.8 in d:\\setup\\lib\\site-packages (from Tensorflow) (2.8.0)\n",
      "Requirement already satisfied: keras-preprocessing>=1.1.1 in d:\\setup\\lib\\site-packages (from Tensorflow) (1.1.2)\n",
      "Requirement already satisfied: absl-py>=0.4.0 in d:\\setup\\lib\\site-packages (from Tensorflow) (1.0.0)\n",
      "Requirement already satisfied: typing-extensions>=3.6.6 in d:\\setup\\lib\\site-packages (from Tensorflow) (3.10.0.2)\n",
      "Requirement already satisfied: tf-estimator-nightly==2.8.0.dev2021122109 in d:\\setup\\lib\\site-packages (from Tensorflow) (2.8.0.dev2021122109)Note: you may need to restart the kernel to use updated packages.\n",
      "\n",
      "Requirement already satisfied: astunparse>=1.6.0 in d:\\setup\\lib\\site-packages (from Tensorflow) (1.6.3)\n",
      "Requirement already satisfied: numpy>=1.20 in d:\\setup\\lib\\site-packages (from Tensorflow) (1.20.3)\n",
      "Requirement already satisfied: wrapt>=1.11.0 in d:\\setup\\lib\\site-packages (from Tensorflow) (1.12.1)\n",
      "Requirement already satisfied: gast>=0.2.1 in d:\\setup\\lib\\site-packages (from Tensorflow) (0.5.3)\n",
      "Requirement already satisfied: termcolor>=1.1.0 in d:\\setup\\lib\\site-packages (from Tensorflow) (1.1.0)\n",
      "Requirement already satisfied: protobuf>=3.9.2 in d:\\setup\\lib\\site-packages (from Tensorflow) (3.20.1)\n",
      "Requirement already satisfied: wheel<1.0,>=0.23.0 in d:\\setup\\lib\\site-packages (from astunparse>=1.6.0->Tensorflow) (0.37.0)\n",
      "Requirement already satisfied: google-auth<3,>=1.6.3 in d:\\setup\\lib\\site-packages (from tensorboard<2.9,>=2.8->Tensorflow) (2.6.6)\n",
      "Requirement already satisfied: tensorboard-data-server<0.7.0,>=0.6.0 in d:\\setup\\lib\\site-packages (from tensorboard<2.9,>=2.8->Tensorflow) (0.6.1)\n",
      "Requirement already satisfied: tensorboard-plugin-wit>=1.6.0 in d:\\setup\\lib\\site-packages (from tensorboard<2.9,>=2.8->Tensorflow) (1.8.1)\n",
      "Requirement already satisfied: markdown>=2.6.8 in d:\\setup\\lib\\site-packages (from tensorboard<2.9,>=2.8->Tensorflow) (3.3.6)\n",
      "Requirement already satisfied: google-auth-oauthlib<0.5,>=0.4.1 in d:\\setup\\lib\\site-packages (from tensorboard<2.9,>=2.8->Tensorflow) (0.4.6)\n",
      "Requirement already satisfied: werkzeug>=0.11.15 in d:\\setup\\lib\\site-packages (from tensorboard<2.9,>=2.8->Tensorflow) (2.0.2)\n",
      "Requirement already satisfied: requests<3,>=2.21.0 in d:\\setup\\lib\\site-packages (from tensorboard<2.9,>=2.8->Tensorflow) (2.26.0)\n",
      "Requirement already satisfied: pyasn1-modules>=0.2.1 in d:\\setup\\lib\\site-packages (from google-auth<3,>=1.6.3->tensorboard<2.9,>=2.8->Tensorflow) (0.2.8)\n",
      "Requirement already satisfied: rsa<5,>=3.1.4 in d:\\setup\\lib\\site-packages (from google-auth<3,>=1.6.3->tensorboard<2.9,>=2.8->Tensorflow) (4.8)\n",
      "Requirement already satisfied: cachetools<6.0,>=2.0.0 in d:\\setup\\lib\\site-packages (from google-auth<3,>=1.6.3->tensorboard<2.9,>=2.8->Tensorflow) (5.0.0)\n",
      "Requirement already satisfied: requests-oauthlib>=0.7.0 in d:\\setup\\lib\\site-packages (from google-auth-oauthlib<0.5,>=0.4.1->tensorboard<2.9,>=2.8->Tensorflow) (1.3.1)\n",
      "Requirement already satisfied: importlib-metadata>=4.4 in d:\\setup\\lib\\site-packages (from markdown>=2.6.8->tensorboard<2.9,>=2.8->Tensorflow) (4.8.1)\n",
      "Requirement already satisfied: zipp>=0.5 in d:\\setup\\lib\\site-packages (from importlib-metadata>=4.4->markdown>=2.6.8->tensorboard<2.9,>=2.8->Tensorflow) (3.6.0)\n",
      "Requirement already satisfied: pyasn1<0.5.0,>=0.4.6 in d:\\setup\\lib\\site-packages (from pyasn1-modules>=0.2.1->google-auth<3,>=1.6.3->tensorboard<2.9,>=2.8->Tensorflow) (0.4.8)\n",
      "Requirement already satisfied: urllib3<1.27,>=1.21.1 in d:\\setup\\lib\\site-packages (from requests<3,>=2.21.0->tensorboard<2.9,>=2.8->Tensorflow) (1.26.7)\n",
      "Requirement already satisfied: certifi>=2017.4.17 in d:\\setup\\lib\\site-packages (from requests<3,>=2.21.0->tensorboard<2.9,>=2.8->Tensorflow) (2021.10.8)\n",
      "Requirement already satisfied: idna<4,>=2.5 in d:\\setup\\lib\\site-packages (from requests<3,>=2.21.0->tensorboard<2.9,>=2.8->Tensorflow) (3.2)\n",
      "Requirement already satisfied: charset-normalizer~=2.0.0 in d:\\setup\\lib\\site-packages (from requests<3,>=2.21.0->tensorboard<2.9,>=2.8->Tensorflow) (2.0.4)\n",
      "Requirement already satisfied: oauthlib>=3.0.0 in d:\\setup\\lib\\site-packages (from requests-oauthlib>=0.7.0->google-auth-oauthlib<0.5,>=0.4.1->tensorboard<2.9,>=2.8->Tensorflow) (3.2.0)\n"
     ]
    }
   ],
   "source": [
    "pip install Tensorflow"
   ]
  },
  {
   "cell_type": "code",
   "execution_count": 1,
   "id": "66ec0bde",
   "metadata": {},
   "outputs": [],
   "source": [
    "import tensorflow\n",
    "from tensorflow.keras.preprocessing import image\n",
    "from tensorflow.keras.layers import GlobalMaxPooling2D\n",
    "from tensorflow.keras.applications.resnet50 import ResNet50,preprocess_input\n",
    "import numpy as np\n",
    "from numpy.linalg import norm\n",
    "import os\n",
    "from tqdm import tqdm\n",
    "import pickle"
   ]
  },
  {
   "cell_type": "code",
   "execution_count": 2,
   "id": "a6febb26",
   "metadata": {},
   "outputs": [
    {
     "name": "stdout",
     "output_type": "stream",
     "text": [
      "Model: \"sequential\"\n",
      "_________________________________________________________________\n",
      " Layer (type)                Output Shape              Param #   \n",
      "=================================================================\n",
      " resnet50 (Functional)       (None, 7, 7, 2048)        23587712  \n",
      "                                                                 \n",
      " global_max_pooling2d (Globa  (None, 2048)             0         \n",
      " lMaxPooling2D)                                                  \n",
      "                                                                 \n",
      "=================================================================\n",
      "Total params: 23,587,712\n",
      "Trainable params: 0\n",
      "Non-trainable params: 23,587,712\n",
      "_________________________________________________________________\n",
      "None\n"
     ]
    }
   ],
   "source": [
    "model = ResNet50(weights='imagenet',include_top=False,input_shape=(224,224,3))\n",
    "model.trainable = False\n",
    "\n",
    "model = tensorflow.keras.Sequential([\n",
    "    model,\n",
    "    GlobalMaxPooling2D()\n",
    "])\n",
    "\n",
    "print(model.summary())"
   ]
  },
  {
   "cell_type": "code",
   "execution_count": 3,
   "id": "98c47318",
   "metadata": {},
   "outputs": [],
   "source": [
    "def extract_features(img_path,model):\n",
    "    img = image.load_img(img_path,target_size=(224,224))\n",
    "    img_array = image.img_to_array(img)\n",
    "    expanded_img_array = np.expand_dims(img_array, axis=0)\n",
    "    preprocessed_img = preprocess_input(expanded_img_array)\n",
    "    result = model.predict(preprocessed_img).flatten()\n",
    "    normalized_result = result / norm(result)\n",
    "\n",
    "    return normalized_result"
   ]
  },
  {
   "cell_type": "code",
   "execution_count": 4,
   "id": "5e3cd05b",
   "metadata": {},
   "outputs": [
    {
     "name": "stderr",
     "output_type": "stream",
     "text": [
      "100%|██████████████████████████████████████████████████████████████████████████| 44441/44441 [2:08:45<00:00,  5.75it/s]\n"
     ]
    }
   ],
   "source": [
    "filenames = []\n",
    "\n",
    "for file in os.listdir('D:/My Project/ML Project/fashion-recommendation-system/images'):\n",
    "    filenames.append(os.path.join('D:/My Project/ML Project/fashion-recommendation-system/images',file))\n",
    "\n",
    "feature_list = []\n",
    "\n",
    "for file in tqdm(filenames):\n",
    "    feature_list.append(extract_features(file,model))\n",
    "\n",
    "pickle.dump(feature_list,open('embedded.pkl','wb'))\n",
    "pickle.dump(filenames,open('filenames.pkl','wb'))"
   ]
  },
  {
   "cell_type": "code",
   "execution_count": null,
   "id": "469d1eae",
   "metadata": {},
   "outputs": [],
   "source": []
  }
 ],
 "metadata": {
  "kernelspec": {
   "display_name": "Python 3 (ipykernel)",
   "language": "python",
   "name": "python3"
  },
  "language_info": {
   "codemirror_mode": {
    "name": "ipython",
    "version": 3
   },
   "file_extension": ".py",
   "mimetype": "text/x-python",
   "name": "python",
   "nbconvert_exporter": "python",
   "pygments_lexer": "ipython3",
   "version": "3.9.7"
  }
 },
 "nbformat": 4,
 "nbformat_minor": 5
}
